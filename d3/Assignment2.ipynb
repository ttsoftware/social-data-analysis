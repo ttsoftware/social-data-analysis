{
 "cells": [
  {
   "cell_type": "code",
   "execution_count": 1,
   "metadata": {
    "collapsed": true
   },
   "outputs": [],
   "source": [
    "#DATA PREPARATION, SCROLL DOWN FOR CLUSTERS ONLY\n",
    "##Open data from SF OpenData\n",
    "import numpy as np\n",
    "import csv\n",
    "\n",
    "\n",
    "def openfile(filename):\n",
    "    category = []\n",
    "    date = []\n",
    "    time = []\n",
    "    pdistrict = []\n",
    "    xcoords = []\n",
    "    ycoords = []\n",
    "    with open(filename, 'rb') as csvfile:\n",
    "        reader = csv.reader(csvfile, delimiter=',')\n",
    "        reader.next()\n",
    "        for row in reader:\n",
    "            category += [row[1]]\n",
    "            date += [row[4]]\n",
    "            time += [row[5]]\n",
    "            pdistrict += [row[6]]\n",
    "            xcoords += [float(row[9])]\n",
    "            ycoords += [float(row[10])]            \n",
    "    return np.array([category, date, time, pdistrict, xcoords, ycoords]).T\n",
    "\n",
    "    \n",
    "crimedata = openfile(\"SFPD_Incidents_-_from_1_January_2003.csv\")\n",
    "\n",
    "import pandas as pd\n",
    "\n",
    "df = pd.DataFrame(crimedata)\n",
    "\n",
    "##Create a year and a time an hour variable\n",
    "year = []\n",
    "for i in crimedata.T[1]: # for every row in the date\n",
    "    year.append(int(i.split(\"/\")[-1])) \n",
    "\n",
    "df[6] = year # the 6th column of the dataframe is set to the year list\n",
    "\n",
    "df[7] = df[2].str.split(\":\").str.get(0)"
   ]
  },
  {
   "cell_type": "code",
   "execution_count": 2,
   "metadata": {
    "collapsed": true
   },
   "outputs": [],
   "source": [
    "df[11] = df[7].astype(float)\n",
    "dn = [] \n",
    "for i in df[11]: \n",
    "    if i <= 5:\n",
    "        dn.append(1) #Hours 1-5 (night)\n",
    "    elif i >5 and i <=11:\n",
    "        dn.append(2) #Morning\n",
    "    elif i >11 and i <=14:\n",
    "        dn.append(3) #Midday \n",
    "    elif i >15 and i <=17:\n",
    "        dn.append(4) #Afternoon\n",
    "    else:\n",
    "        dn.append(5) #Hours 18-23 (evening)\n",
    "\n",
    "        \n",
    "df[12] = dn ## 12th column of the dataframe now indicates 1 = night, 2 = morning, 3 = midday, 4 = afternoon, 5 = evening\n",
    "\n"
   ]
  },
  {
   "cell_type": "code",
   "execution_count": 3,
   "metadata": {
    "collapsed": true
   },
   "outputs": [],
   "source": [
    "from sklearn.cluster import KMeans\n",
    "import numpy as np\n",
    "#Convert the coordinates from strings to floats\n",
    "df[4] = df[4].astype(float)\n",
    "df[5] = df[5].astype(float)\n",
    "\n",
    "# Remove weird coordinates, which are placed far away from the SF area\n",
    "df_true_coords = df[df[5] != 90]\n",
    "df_true_coords = df_true_coords[df_true_coords[4] < -122]\n",
    "\n",
    "df_p = df_true_coords[df_true_coords[0].isin(['PROSTITUTION'])]"
   ]
  },
  {
   "cell_type": "code",
   "execution_count": 9,
   "metadata": {
    "collapsed": false
   },
   "outputs": [],
   "source": [
    "#Store the latitude and longtitude coordinates in a numpy array\n",
    "\n",
    "coordinates = np.array([df_p[4], df_p[5]]).T\n",
    "\n",
    "\n",
    "#Fitting the cluster model with different number of k-means (2 to 6)\n",
    "kmeans2 = KMeans(n_clusters=2, random_state=0).fit(coordinates)\n",
    "\n",
    "kmeans3 = KMeans(n_clusters=3, random_state=0).fit(coordinates)\n",
    "\n",
    "kmeans4 = KMeans(n_clusters=4, random_state=0).fit(coordinates)\n",
    "\n",
    "kmeans5 = KMeans(n_clusters=5, random_state=0).fit(coordinates)\n",
    "\n",
    "kmeans6 = KMeans(n_clusters=6, random_state=0).fit(coordinates)"
   ]
  },
  {
   "cell_type": "code",
   "execution_count": 14,
   "metadata": {
    "collapsed": false
   },
   "outputs": [
    {
     "name": "stderr",
     "output_type": "stream",
     "text": [
      "/anaconda/lib/python2.7/site-packages/ipykernel/__main__.py:2: SettingWithCopyWarning: \n",
      "A value is trying to be set on a copy of a slice from a DataFrame.\n",
      "Try using .loc[row_indexer,col_indexer] = value instead\n",
      "\n",
      "See the caveats in the documentation: http://pandas.pydata.org/pandas-docs/stable/indexing.html#indexing-view-versus-copy\n",
      "  from ipykernel import kernelapp as app\n",
      "/anaconda/lib/python2.7/site-packages/ipykernel/__main__.py:3: SettingWithCopyWarning: \n",
      "A value is trying to be set on a copy of a slice from a DataFrame.\n",
      "Try using .loc[row_indexer,col_indexer] = value instead\n",
      "\n",
      "See the caveats in the documentation: http://pandas.pydata.org/pandas-docs/stable/indexing.html#indexing-view-versus-copy\n",
      "  app.launch_new_instance()\n",
      "/anaconda/lib/python2.7/site-packages/ipykernel/__main__.py:4: SettingWithCopyWarning: \n",
      "A value is trying to be set on a copy of a slice from a DataFrame.\n",
      "Try using .loc[row_indexer,col_indexer] = value instead\n",
      "\n",
      "See the caveats in the documentation: http://pandas.pydata.org/pandas-docs/stable/indexing.html#indexing-view-versus-copy\n",
      "/anaconda/lib/python2.7/site-packages/ipykernel/__main__.py:5: SettingWithCopyWarning: \n",
      "A value is trying to be set on a copy of a slice from a DataFrame.\n",
      "Try using .loc[row_indexer,col_indexer] = value instead\n",
      "\n",
      "See the caveats in the documentation: http://pandas.pydata.org/pandas-docs/stable/indexing.html#indexing-view-versus-copy\n",
      "/anaconda/lib/python2.7/site-packages/ipykernel/__main__.py:6: SettingWithCopyWarning: \n",
      "A value is trying to be set on a copy of a slice from a DataFrame.\n",
      "Try using .loc[row_indexer,col_indexer] = value instead\n",
      "\n",
      "See the caveats in the documentation: http://pandas.pydata.org/pandas-docs/stable/indexing.html#indexing-view-versus-copy\n"
     ]
    }
   ],
   "source": [
    "#The predict command assign each observation to the nearest cluster\n",
    "df_p[\"cluster2\"] = kmeans2.predict(coordinates)\n",
    "df_p[\"cluster3\"] = kmeans3.predict(coordinates)\n",
    "df_p[\"cluster4\"] = kmeans4.predict(coordinates)\n",
    "df_p[\"cluster5\"] = kmeans5.predict(coordinates)\n",
    "df_p[\"cluster6\"] = kmeans6.predict(coordinates)\n",
    "\n",
    "#Don't mind the warnings. It's not a mistake. They can be turned off. "
   ]
  },
  {
   "cell_type": "code",
   "execution_count": 15,
   "metadata": {
    "collapsed": true
   },
   "outputs": [],
   "source": [
    "#Give columns reasonable names\n",
    "df_p.columns = ['CATEGORIES','DATE','TIME','DISTRICT','LON','LAT','YEAR','HOUR','HOUR2','TIMEDAYCAT', 'CLUSTER2','CLUSTER3','CLUSTER4','CLUSTER5','CLUSTER6']\n"
   ]
  },
  {
   "cell_type": "code",
   "execution_count": 18,
   "metadata": {
    "collapsed": false
   },
   "outputs": [],
   "source": [
    "#Prepare data for javaScript. Drop cols\n",
    "df_p_json = df_p.drop(['CATEGORIES','DATE','TIME','DISTRICT','YEAR','HOUR','TIMEDAYCAT'], axis=1)\n",
    "\n",
    "#Create a json file with the desired dataset\n",
    "df_p_json.to_json('prostitutiondata.json', orient='records')"
   ]
  },
  {
   "cell_type": "code",
   "execution_count": 19,
   "metadata": {
    "collapsed": true
   },
   "outputs": [],
   "source": [
    "#Make data with the cluster centres. \n",
    "k2 = pd.DataFrame(kmeans2.cluster_centers_) #Creates a dataset with number of rows according to number of cluster, columns with latitude and longtitude \n",
    "k3 = pd.DataFrame(kmeans3.cluster_centers_)\n",
    "k4 = pd.DataFrame(kmeans4.cluster_centers_)\n",
    "k5 = pd.DataFrame(kmeans5.cluster_centers_)\n",
    "k6 = pd.DataFrame(kmeans6.cluster_centers_)\n",
    "\n",
    "k2.columns = [\"LON\", \"LAT\"]\n",
    "k3.columns = [\"LON\", \"LAT\"]\n",
    "k4.columns = [\"LON\", \"LAT\"]\n",
    "k5.columns = [\"LON\", \"LAT\"]\n",
    "k6.columns = [\"LON\", \"LAT\"]"
   ]
  },
  {
   "cell_type": "code",
   "execution_count": 20,
   "metadata": {
    "collapsed": true
   },
   "outputs": [],
   "source": [
    "#Create json files for each dataset, which will be used on the website\n",
    "k2.to_json('k2.json', orient='records')\n",
    "k3.to_json('k3.json', orient='records')\n",
    "k4.to_json('k4.json', orient='records')\n",
    "k5.to_json('k5.json', orient='records')\n",
    "k6.to_json('k6.json', orient='records')"
   ]
  }
 ],
 "metadata": {
  "kernelspec": {
   "display_name": "Python [default]",
   "language": "python",
   "name": "python2"
  },
  "language_info": {
   "codemirror_mode": {
    "name": "ipython",
    "version": 2
   },
   "file_extension": ".py",
   "mimetype": "text/x-python",
   "name": "python",
   "nbconvert_exporter": "python",
   "pygments_lexer": "ipython2",
   "version": "2.7.12"
  }
 },
 "nbformat": 4,
 "nbformat_minor": 1
}
