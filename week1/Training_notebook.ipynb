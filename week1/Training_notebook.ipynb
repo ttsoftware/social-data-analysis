{
 "cells": [
  {
   "cell_type": "markdown",
   "metadata": {},
   "source": [
    "# The python exercises\n",
    "\n",
    "**Ex 0**: The Jupyter Notebooks are organized as a list of cells. There are two central kinds of cells, they are called **Code** and **Markdown**. The cell type can be set [using a keyboard shortcut](http://sowingseasons.com/blog/jupyter-keyboard-shortcuts.html), or using the menu above.\n",
    "\n",
    "The **Code** cells simply contain the Python code, no big deal.\n",
    "\n",
    "The **Markdown** cells contain text (explanations, sections, etc). The text is written in Markdown. Markdown allows you to write using an easy-to-read, easy-to-write plain text format, then convert it to structurally valid XHTML (or HTML). You can read about it here:\n",
    "\n",
    "http://daringfireball.net/projects/markdown/\n",
    "\n",
    "In the cell below, write a short text that demonstrates that you can\n",
    "* Create a section\n",
    "* Write words in bold and italics\n",
    "* Create lists\n",
    "* Establish a [hyperlink](https://en.wikipedia.org/wiki/Hyperlink)"
   ]
  },
  {
   "cell_type": "markdown",
   "metadata": {},
   "source": [
    "*[Write the answer to **Ex 0** here]*"
   ]
  },
  {
   "cell_type": "markdown",
   "metadata": {},
   "source": [
    "**Ex 1**: Create a list `a` that contains the numbers from $1$ to $1110$, incremented by one, using the `range` function."
   ]
  },
  {
   "cell_type": "code",
   "execution_count": 56,
   "metadata": {
    "collapsed": false
   },
   "outputs": [],
   "source": [
    "list = range(1,1110)"
   ]
  },
  {
   "cell_type": "markdown",
   "metadata": {},
   "source": [
    "**Ex 2**: Show that you understand [slicing](http://stackoverflow.com/questions/509211/explain-pythons-slice-notation) in Python by extracting a list `b` with the numbers from $543$ to $779$ from the list created above."
   ]
  },
  {
   "cell_type": "code",
   "execution_count": 57,
   "metadata": {
    "collapsed": false
   },
   "outputs": [],
   "source": [
    "b = list[543:779]"
   ]
  },
  {
   "cell_type": "markdown",
   "metadata": {},
   "source": [
    "**Ex 3**: Using `def`, define a function that takes as input a number $x$ and outputs the number multiplied by itself plus three $f(x) = x(x+3)$. "
   ]
  },
  {
   "cell_type": "code",
   "execution_count": 58,
   "metadata": {
    "collapsed": true
   },
   "outputs": [],
   "source": [
    "def f(x): \n",
    "    return x+3"
   ]
  },
  {
   "cell_type": "markdown",
   "metadata": {},
   "source": [
    "**Ex 4**: Apply this function to every element of the list `b` using a `for` loop. "
   ]
  },
  {
   "cell_type": "code",
   "execution_count": 59,
   "metadata": {
    "collapsed": false
   },
   "outputs": [],
   "source": [
    "for x in b:\n",
    "    f(x)"
   ]
  },
  {
   "cell_type": "markdown",
   "metadata": {},
   "source": [
    "**Ex 5**: Do the same thing using a list comprehension."
   ]
  },
  {
   "cell_type": "code",
   "execution_count": 60,
   "metadata": {
    "collapsed": false
   },
   "outputs": [],
   "source": [
    "c = map(f, b)"
   ]
  },
  {
   "cell_type": "markdown",
   "metadata": {},
   "source": [
    "**Ex 6**: Write the output of your function to a text file with one number per line."
   ]
  },
  {
   "cell_type": "code",
   "execution_count": 61,
   "metadata": {
    "collapsed": false
   },
   "outputs": [
    {
     "name": "stdout",
     "output_type": "stream",
     "text": [
      "[547, 548, 549, 550, 551, 552, 553, 554, 555, 556, 557, 558, 559, 560, 561, 562, 563, 564, 565, 566, 567, 568, 569, 570, 571, 572, 573, 574, 575, 576, 577, 578, 579, 580, 581, 582, 583, 584, 585, 586, 587, 588, 589, 590, 591, 592, 593, 594, 595, 596, 597, 598, 599, 600, 601, 602, 603, 604, 605, 606, 607, 608, 609, 610, 611, 612, 613, 614, 615, 616, 617, 618, 619, 620, 621, 622, 623, 624, 625, 626, 627, 628, 629, 630, 631, 632, 633, 634, 635, 636, 637, 638, 639, 640, 641, 642, 643, 644, 645, 646, 647, 648, 649, 650, 651, 652, 653, 654, 655, 656, 657, 658, 659, 660, 661, 662, 663, 664, 665, 666, 667, 668, 669, 670, 671, 672, 673, 674, 675, 676, 677, 678, 679, 680, 681, 682, 683, 684, 685, 686, 687, 688, 689, 690, 691, 692, 693, 694, 695, 696, 697, 698, 699, 700, 701, 702, 703, 704, 705, 706, 707, 708, 709, 710, 711, 712, 713, 714, 715, 716, 717, 718, 719, 720, 721, 722, 723, 724, 725, 726, 727, 728, 729, 730, 731, 732, 733, 734, 735, 736, 737, 738, 739, 740, 741, 742, 743, 744, 745, 746, 747, 748, 749, 750, 751, 752, 753, 754, 755, 756, 757, 758, 759, 760, 761, 762, 763, 764, 765, 766, 767, 768, 769, 770, 771, 772, 773, 774, 775, 776, 777, 778, 779, 780, 781, 782]\n"
     ]
    },
    {
     "data": {
      "text/plain": [
       "<function close>"
      ]
     },
     "execution_count": 61,
     "metadata": {},
     "output_type": "execute_result"
    }
   ],
   "source": [
    "print c\n",
    "f = open('list.txt', 'w')\n",
    "for x in c:\n",
    "    f.write(str(x) + '\\n')\n",
    "f.close"
   ]
  },
  {
   "cell_type": "markdown",
   "metadata": {},
   "source": [
    "**Ex 7**: Show that you know about strings using this example from http://learnpythonthehardway.org/book/ex6.html (code reproduced below).\n",
    "\n",
    "1. Go through the code below and write a code comment above each line explaining it.\n",
    "1. Find all the places where a string is put inside a string. There are four places.\n",
    "1. Are you sure there are only four places? How do you know? Maybe I like lying.\n",
    "1. Explain why adding the two strings w and e with + makes a longer string.\n",
    "\n",
    "\n",
    "[**Hint**: If you feel this is too complex, try completing the prior learningthehardway exercises first. Start [here](http://learnpythonthehardway.org/book/ex1.html). "
   ]
  },
  {
   "cell_type": "code",
   "execution_count": 62,
   "metadata": {
    "collapsed": false
   },
   "outputs": [
    {
     "name": "stdout",
     "output_type": "stream",
     "text": [
      "There are 10 types of people.\n",
      "Those who know binary and those who don't.\n",
      "I said: 'There are 10 types of people.'.\n",
      "I also said: 'Those who know binary and those who don't.'.\n",
      "Isn't that joke so funny?! False\n",
      "This is the left side of...a string with a right side.\n"
     ]
    }
   ],
   "source": [
    "# Note from Sune: In Python, code comments follow the \"#\" character\n",
    "\n",
    "# 1 string put inside a string\n",
    "x = \"There are %d types of people.\" % 10\n",
    "binary = \"binary\"\n",
    "do_not = \"don't\"\n",
    "# 2 string put inside a string\n",
    "y = \"Those who know %s and those who %s.\" % (binary, do_not)\n",
    "\n",
    "print x\n",
    "print y\n",
    "\n",
    "# append x to end of print\n",
    "print \"I said: %r.\" % x\n",
    "\n",
    "# append y to end of print\n",
    "print \"I also said: '%s'.\" % y\n",
    "\n",
    "hilarious = False\n",
    "# 3 string inside a string\n",
    "joke_evaluation = \"Isn't that joke so funny?! %r\"\n",
    "\n",
    "# combine joke and hilarious - desperate types\n",
    "print joke_evaluation % hilarious\n",
    "\n",
    "w = \"This is the left side of...\"\n",
    "e = \"a string with a right side.\"\n",
    "\n",
    "# combine w and e\n",
    "print w + e"
   ]
  },
  {
   "cell_type": "markdown",
   "metadata": {},
   "source": [
    "*[Write the answer to **Ex 7**, 2-4 here]*\n",
    "\n",
    "1. see code.\n",
    "1. see code.\n",
    "1. There are 3 places with a string inside a string.\n",
    "1. because addition with strings is interpreted as string concatination."
   ]
  },
  {
   "cell_type": "markdown",
   "metadata": {},
   "source": [
    "**Ex 8**: First, learn about JSON by reading the **[wikipedia page](https://en.wikipedia.org/wiki/JSON)**. Then answer the following two questions in the cell below. \n",
    "\n",
    "* What is `json`? What do the letters stand for?\n",
    "* Why is `json` superior to `xml`? (... or why not?)"
   ]
  },
  {
   "cell_type": "markdown",
   "metadata": {},
   "source": [
    "*[Write your answer to **Ex 8** here]*\n",
    "\n",
    "1. Javascript Object Notation\n",
    "1. JSON has the advantage of being directly translated into javascipt objects. This is useful for web applications, where a server would transmit data to the browser's client javascript program. The client javascript program can easily interpret the server response, if it is in JSON format. Because of the popularity in web development, the JSON format has become widespread and gained native support by many languages such as python, ruby ect.\n",
    "1. XML is a multipurpose file format, which used to be used a lot in web service communication - and is still widely used as such. XML is usually used for more complex document structures, especially where strong typing is required."
   ]
  },
  {
   "cell_type": "markdown",
   "metadata": {},
   "source": [
    "**Ex 9a**: Use the `json` module (instructions on usage here: https://docs.python.org/2.7/library/json.html). \n",
    "\n",
    "First use `urllib2` (https://docs.python.org/2.7/howto/urllib2.html), or another Python library, to download **[this file](https://raw.githubusercontent.com/suneman/socialgraphs2016/master/files/test.json)**. \n",
    "\n",
    "The downloaded file is a string when you first download it, but you can use the `json` library to \"load\" the string and decode it to a Python object, using `json.loads()`. (The decoded string is a python object, a list with a single element, a dictionary (with nested dictionaries inside it))."
   ]
  },
  {
   "cell_type": "code",
   "execution_count": 65,
   "metadata": {
    "collapsed": false
   },
   "outputs": [],
   "source": [
    "import urllib2, json\n",
    "response = urllib2.urlopen('https://raw.githubusercontent.com/suneman/socialgraphs2016/master/files/test.json')\n",
    "responseString = response.read()\n",
    "responseJSON = json.loads(responseString)"
   ]
  },
  {
   "cell_type": "markdown",
   "metadata": {},
   "source": [
    "**Ex 9b**: Now, let's take a look at the file you downloaded. First, just write the name of the variable that contains the decoded file content and hit enter to take a look at it. It's  the list of Twitter Trending topics, a few days ago."
   ]
  },
  {
   "cell_type": "code",
   "execution_count": 72,
   "metadata": {
    "collapsed": false
   },
   "outputs": [
    {
     "data": {
      "text/plain": [
       "[{u'as_of': u'2015-08-24T08:36:54Z',\n",
       "  u'created_at': u'2015-08-24T08:32:44Z',\n",
       "  u'locations': [{u'name': u'Denmark', u'woeid': 23424796}],\n",
       "  u'trends': [{u'name': u'#rfcvff',\n",
       "    u'promoted_content': None,\n",
       "    u'query': u'%23rfcvff',\n",
       "    u'url': u'http://twitter.com/search?q=%23rfcvff'},\n",
       "   {u'name': u'#EFBFCM',\n",
       "    u'promoted_content': None,\n",
       "    u'query': u'%23EFBFCM',\n",
       "    u'url': u'http://twitter.com/search?q=%23EFBFCM'},\n",
       "   {u'name': u'#bifsje',\n",
       "    u'promoted_content': None,\n",
       "    u'query': u'%23bifsje',\n",
       "    u'url': u'http://twitter.com/search?q=%23bifsje'},\n",
       "   {u'name': u'nordstrand',\n",
       "    u'promoted_content': None,\n",
       "    u'query': u'nordstrand',\n",
       "    u'url': u'http://twitter.com/search?q=nordstrand'},\n",
       "   {u'name': u'#WhyILoveLiam',\n",
       "    u'promoted_content': None,\n",
       "    u'query': u'%23WhyILoveLiam',\n",
       "    u'url': u'http://twitter.com/search?q=%23WhyILoveLiam'},\n",
       "   {u'name': u'#lv2015',\n",
       "    u'promoted_content': None,\n",
       "    u'query': u'%23lv2015',\n",
       "    u'url': u'http://twitter.com/search?q=%23lv2015'},\n",
       "   {u'name': u'Harald Nielsen',\n",
       "    u'promoted_content': None,\n",
       "    u'query': u'%22Harald+Nielsen%22',\n",
       "    u'url': u'http://twitter.com/search?q=%22Harald+Nielsen%22'},\n",
       "   {u'name': u'Fnatic',\n",
       "    u'promoted_content': None,\n",
       "    u'query': u'Fnatic',\n",
       "    u'url': u'http://twitter.com/search?q=Fnatic'},\n",
       "   {u'name': u'Nash',\n",
       "    u'promoted_content': None,\n",
       "    u'query': u'Nash',\n",
       "    u'url': u'http://twitter.com/search?q=Nash'},\n",
       "   {u'name': u'kjeldsen',\n",
       "    u'promoted_content': None,\n",
       "    u'query': u'kjeldsen',\n",
       "    u'url': u'http://twitter.com/search?q=kjeldsen'}]}]"
      ]
     },
     "execution_count": 72,
     "metadata": {},
     "output_type": "execute_result"
    }
   ],
   "source": [
    "responseJSON"
   ]
  },
  {
   "cell_type": "markdown",
   "metadata": {},
   "source": [
    "**Ex 9c**: The thing you've just decoded is now a list of length 1. What are the names of the keys organizing the dictionary at position 0 in the list? (Just write the code to produce the answer.) \n",
    "\n",
    "**Hint** use the `.keys()` method to easily get the keys of any dictionary."
   ]
  },
  {
   "cell_type": "code",
   "execution_count": 73,
   "metadata": {
    "collapsed": false
   },
   "outputs": [
    {
     "data": {
      "text/plain": [
       "[u'url', u'query', u'name', u'promoted_content']"
      ]
     },
     "execution_count": 73,
     "metadata": {},
     "output_type": "execute_result"
    }
   ],
   "source": [
    "responseJSON[0]['trends'][0].keys()"
   ]
  },
  {
   "cell_type": "markdown",
   "metadata": {},
   "source": [
    "**Ex 9d**: Two small questions \n",
    "* What time did I create the list of Trending Topics?\n",
    "* Print the names of the trending topics (bonus for using a list comprehension)\n",
    "\n",
    "(Just write the code to produce the answer.)"
   ]
  },
  {
   "cell_type": "code",
   "execution_count": 75,
   "metadata": {
    "collapsed": false
   },
   "outputs": [
    {
     "data": {
      "text/plain": [
       "u'2015-08-24T08:32:44Z'"
      ]
     },
     "execution_count": 75,
     "metadata": {},
     "output_type": "execute_result"
    }
   ],
   "source": [
    "responseJSON[0]['created_at']"
   ]
  },
  {
   "cell_type": "markdown",
   "metadata": {},
   "source": [
    "**Ex 9e**: Two more small questions\n",
    "* Go on-line and figure out why there's a `u` in front of every string. Write the answer in your own words. (Hint it has to do with strings in Python).\n",
    "* What's going on with all of the `%22` and `%23`? Go on-line and figure it out. Write the answer in your own words. (Hint: It has to do with HTML URL encoding)"
   ]
  },
  {
   "cell_type": "markdown",
   "metadata": {},
   "source": [
    "*[Write your answer to **Ex 9e** here]*"
   ]
  },
  {
   "cell_type": "markdown",
   "metadata": {
    "collapsed": true
   },
   "source": [
    "The '%22' are signs are url encoded strings. The u stands for unicode because these strings are utf-8 encoded."
   ]
  }
 ],
 "metadata": {
  "anaconda-cloud": {},
  "kernelspec": {
   "display_name": "Python 2",
   "language": "python",
   "name": "python2"
  },
  "language_info": {
   "codemirror_mode": {
    "name": "ipython",
    "version": 2
   },
   "file_extension": ".py",
   "mimetype": "text/x-python",
   "name": "python",
   "nbconvert_exporter": "python",
   "pygments_lexer": "ipython2",
   "version": "2.7.12"
  }
 },
 "nbformat": 4,
 "nbformat_minor": 0
}
